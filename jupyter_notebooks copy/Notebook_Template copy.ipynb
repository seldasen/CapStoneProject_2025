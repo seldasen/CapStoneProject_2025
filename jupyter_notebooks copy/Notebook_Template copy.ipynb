{
  "cells": [
    {
      "cell_type": "markdown",
      "metadata": {
        "id": "0aStgWSO0E0E"
      },
      "source": [
        "# **WORLD HAPPINESS REPORT**\n"
      ]
    },
    {
      "cell_type": "code",
      "execution_count": 5,
      "metadata": {},
      "outputs": [
        {
          "name": "stdout",
          "output_type": "stream",
          "text": [
            "  Country name  Happiness Rank  Happiness score  Upperwhisker  Lowerwhisker  \\\n",
            "0      Finland               1            7.741         7.815         7.667   \n",
            "1      Denmark               2            7.583         7.665         7.500   \n",
            "2      Iceland               3            7.525         7.618         7.433   \n",
            "3       Sweden               4            7.344         7.422         7.267   \n",
            "4       Israel               5            7.341         7.405         7.277   \n",
            "\n",
            "   Economy (GDP per Capita)\\t  Social support  Healthy life expectancy  \\\n",
            "0                       1.844           1.572                    0.695   \n",
            "1                       1.908           1.520                    0.699   \n",
            "2                       1.881           1.617                    0.718   \n",
            "3                       1.878           1.501                    0.724   \n",
            "4                       1.803           1.513                    0.740   \n",
            "\n",
            "   Freedom to make life choices  Generosity  Perceptions of corruption  \n",
            "0                         0.859       0.142                      0.546  \n",
            "1                         0.823       0.204                      0.548  \n",
            "2                         0.819       0.258                      0.182  \n",
            "3                         0.838       0.221                      0.524  \n",
            "4                         0.641       0.153                      0.193  \n"
          ]
        }
      ],
      "source": [
        "import pandas as pd  \n",
        "import numpy as np  \n",
        "\n",
        "df_2024 = pd.read_csv(r\"C:\\Users\\balla\\OneDrive\\Documents\\CapStoneProject_2025\\2024.csv\")\n",
        "\n",
        "print(df_2024.head())"
      ]
    },
    {
      "cell_type": "code",
      "execution_count": 6,
      "metadata": {},
      "outputs": [
        {
          "name": "stdout",
          "output_type": "stream",
          "text": [
            "<class 'pandas.core.frame.DataFrame'>\n",
            "RangeIndex: 143 entries, 0 to 142\n",
            "Data columns (total 11 columns):\n",
            " #   Column                        Non-Null Count  Dtype  \n",
            "---  ------                        --------------  -----  \n",
            " 0   Country name                  143 non-null    object \n",
            " 1   Happiness Rank                143 non-null    int64  \n",
            " 2   Happiness score               143 non-null    float64\n",
            " 3   Upperwhisker                  143 non-null    float64\n",
            " 4   Lowerwhisker                  143 non-null    float64\n",
            " 5   Economy (GDP per Capita)\t     140 non-null    float64\n",
            " 6   Social support                140 non-null    float64\n",
            " 7   Healthy life expectancy       140 non-null    float64\n",
            " 8   Freedom to make life choices  140 non-null    float64\n",
            " 9   Generosity                    140 non-null    float64\n",
            " 10  Perceptions of corruption     140 non-null    float64\n",
            "dtypes: float64(9), int64(1), object(1)\n",
            "memory usage: 12.4+ KB\n",
            "None\n",
            "Country name                    0\n",
            "Happiness Rank                  0\n",
            "Happiness score                 0\n",
            "Upperwhisker                    0\n",
            "Lowerwhisker                    0\n",
            "Economy (GDP per Capita)\\t      3\n",
            "Social support                  3\n",
            "Healthy life expectancy         3\n",
            "Freedom to make life choices    3\n",
            "Generosity                      3\n",
            "Perceptions of corruption       3\n",
            "dtype: int64\n"
          ]
        }
      ],
      "source": [
        "\n",
        "print(df_2024.info())\n",
        "\n",
        "print(df_2024.isnull().sum())\n"
      ]
    },
    {
      "cell_type": "code",
      "execution_count": 7,
      "metadata": {},
      "outputs": [
        {
          "name": "stdout",
          "output_type": "stream",
          "text": [
            "       Happiness Rank  Happiness score  Upperwhisker  Lowerwhisker  \\\n",
            "count       143.00000       143.000000    143.000000    143.000000   \n",
            "mean         72.00000         5.527580      5.641175      5.413972   \n",
            "std          41.42463         1.170717      1.155008      1.187133   \n",
            "min           1.00000         1.721000      1.775000      1.667000   \n",
            "25%          36.50000         4.726000      4.845500      4.606000   \n",
            "50%          72.00000         5.785000      5.895000      5.674000   \n",
            "75%         107.50000         6.416000      6.507500      6.319000   \n",
            "max         143.00000         7.741000      7.815000      7.667000   \n",
            "\n",
            "       Economy (GDP per Capita)\\t  Social support  Healthy life expectancy  \\\n",
            "count                  140.000000      140.000000               140.000000   \n",
            "mean                     1.378807        1.134329                 0.520886   \n",
            "std                      0.425098        0.333317                 0.164923   \n",
            "min                      0.000000        0.000000                 0.000000   \n",
            "25%                      1.077750        0.921750                 0.398000   \n",
            "50%                      1.431500        1.237500                 0.549500   \n",
            "75%                      1.741500        1.383250                 0.648500   \n",
            "max                      2.141000        1.617000                 0.857000   \n",
            "\n",
            "       Freedom to make life choices  Generosity  Perceptions of corruption  \n",
            "count                    140.000000  140.000000                 140.000000  \n",
            "mean                       0.620621    0.146271                   0.154121  \n",
            "std                        0.162492    0.073441                   0.126238  \n",
            "min                        0.000000    0.000000                   0.000000  \n",
            "25%                        0.527500    0.091000                   0.068750  \n",
            "50%                        0.641000    0.136500                   0.120500  \n",
            "75%                        0.736000    0.192500                   0.193750  \n",
            "max                        0.863000    0.401000                   0.575000  \n"
          ]
        }
      ],
      "source": [
        "print(df_2024.describe())"
      ]
    },
    {
      "cell_type": "code",
      "execution_count": null,
      "metadata": {},
      "outputs": [],
      "source": []
    },
    {
      "cell_type": "markdown",
      "metadata": {
        "id": "1eLEkw5O0ECa"
      },
      "source": [
        "## Objectives\n",
        "\n",
        "* Write your notebook objective here, for example, \"Fetch data from Kaggle and save as raw data\", or \"engineer features for modelling\"\n",
        "\n",
        "## Inputs\n",
        "\n",
        "* Write down which data or information you need to run the notebook \n",
        "\n",
        "## Outputs\n",
        "\n",
        "* Write here which files, code or artefacts you generate by the end of the notebook \n",
        "\n",
        "## Additional Comments\n",
        "\n",
        "* If you have any additional comments that don't fit in the previous bullets, please state them here. \n",
        "\n"
      ]
    },
    {
      "cell_type": "markdown",
      "metadata": {
        "id": "9uWZXH9LwoQg"
      },
      "source": [
        "---"
      ]
    },
    {
      "cell_type": "markdown",
      "metadata": {
        "id": "cqP-UeN-z3i2"
      },
      "source": [
        "# Change working directory"
      ]
    },
    {
      "cell_type": "markdown",
      "metadata": {},
      "source": [
        "* We are assuming you will store the notebooks in a subfolder, therefore when running the notebook in the editor, you will need to change the working directory"
      ]
    },
    {
      "cell_type": "markdown",
      "metadata": {
        "id": "aOGIGS-uz3i2"
      },
      "source": [
        "We need to change the working directory from its current folder to its parent folder\n",
        "* We access the current directory with os.getcwd()"
      ]
    },
    {
      "cell_type": "code",
      "execution_count": null,
      "metadata": {
        "id": "wZfF_j-Bz3i4",
        "outputId": "66943449-1436-4c3d-85c7-b85f9f78349b"
      },
      "outputs": [],
      "source": [
        "import os\n",
        "current_dir = os.getcwd()\n",
        "current_dir"
      ]
    },
    {
      "cell_type": "markdown",
      "metadata": {
        "id": "9MWW8E7lz3i7"
      },
      "source": [
        "We want to make the parent of the current directory the new current directory\n",
        "* os.path.dirname() gets the parent directory\n",
        "* os.chir() defines the new current directory"
      ]
    },
    {
      "cell_type": "code",
      "execution_count": null,
      "metadata": {
        "id": "TwHsQRWjz3i9",
        "outputId": "86849db3-cd2f-4cc5-ebb8-2d0caafa1a2c"
      },
      "outputs": [],
      "source": [
        "os.chdir(os.path.dirname(current_dir))\n",
        "print(\"You set a new current directory\")"
      ]
    },
    {
      "cell_type": "markdown",
      "metadata": {
        "id": "M_xPk_Ijz3i-"
      },
      "source": [
        "Confirm the new current directory"
      ]
    },
    {
      "cell_type": "code",
      "execution_count": null,
      "metadata": {
        "id": "vz3S-_kjz3jA",
        "outputId": "00b79ae4-75d0-4a96-d193-ac9ef9847ea2"
      },
      "outputs": [],
      "source": [
        "current_dir = os.getcwd()\n",
        "current_dir"
      ]
    },
    {
      "cell_type": "markdown",
      "metadata": {
        "id": "-mavJ8DibrcQ"
      },
      "source": [
        "# Section 1"
      ]
    },
    {
      "cell_type": "markdown",
      "metadata": {},
      "source": [
        "Section 1 content"
      ]
    },
    {
      "cell_type": "code",
      "execution_count": null,
      "metadata": {},
      "outputs": [],
      "source": []
    },
    {
      "cell_type": "markdown",
      "metadata": {
        "id": "ZY3l0-AxO93d"
      },
      "source": [
        "---"
      ]
    },
    {
      "cell_type": "markdown",
      "metadata": {
        "id": "uFQo3ycuO-v6"
      },
      "source": [
        "# Section 2"
      ]
    },
    {
      "cell_type": "markdown",
      "metadata": {},
      "source": [
        "Section 2 content"
      ]
    },
    {
      "cell_type": "code",
      "execution_count": null,
      "metadata": {},
      "outputs": [],
      "source": []
    },
    {
      "cell_type": "markdown",
      "metadata": {},
      "source": [
        "---"
      ]
    },
    {
      "cell_type": "markdown",
      "metadata": {},
      "source": [
        "NOTE"
      ]
    },
    {
      "cell_type": "markdown",
      "metadata": {},
      "source": [
        "* You may add as many sections as you want, as long as it supports your project workflow.\n",
        "* All notebook's cells should be run top-down (you can't create a dynamic wherein a given point you need to go back to a previous cell to execute some task, like go back to a previous cell and refresh a variable content)"
      ]
    },
    {
      "cell_type": "markdown",
      "metadata": {},
      "source": [
        "---"
      ]
    },
    {
      "cell_type": "markdown",
      "metadata": {
        "id": "ltNetd085qHf"
      },
      "source": [
        "# Push files to Repo"
      ]
    },
    {
      "cell_type": "markdown",
      "metadata": {},
      "source": [
        "* In cases where you don't need to push files to Repo, you may replace this section with \"Conclusions and Next Steps\" and state your conclusions and next steps."
      ]
    },
    {
      "cell_type": "code",
      "execution_count": null,
      "metadata": {
        "id": "aKlnIozA4eQO",
        "outputId": "fd09bc1f-adb1-4511-f6ce-492a6af570c0"
      },
      "outputs": [],
      "source": [
        "import os\n",
        "try:\n",
        "  # create your folder here\n",
        "  # os.makedirs(name='')\n",
        "except Exception as e:\n",
        "  print(e)\n"
      ]
    }
  ],
  "metadata": {
    "accelerator": "GPU",
    "colab": {
      "name": "Data Practitioner Jupyter Notebook.ipynb",
      "provenance": [],
      "toc_visible": true
    },
    "kernelspec": {
      "display_name": ".venv",
      "language": "python",
      "name": "python3"
    },
    "language_info": {
      "codemirror_mode": {
        "name": "ipython",
        "version": 3
      },
      "file_extension": ".py",
      "mimetype": "text/x-python",
      "name": "python",
      "nbconvert_exporter": "python",
      "pygments_lexer": "ipython3",
      "version": "3.11.9"
    },
    "orig_nbformat": 2
  },
  "nbformat": 4,
  "nbformat_minor": 2
}
