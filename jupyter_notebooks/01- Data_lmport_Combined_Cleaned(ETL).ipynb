{
  "cells": [
    {
      "cell_type": "markdown",
      "metadata": {
        "id": "0aStgWSO0E0E"
      },
      "source": [
        "# **WORLD HAPPINESS REPORT**\n"
      ]
    },
    {
      "cell_type": "markdown",
      "metadata": {},
      "source": [
        "## Data Cleaning & Preprocessing\n",
        "\n",
        "This notebook outlines the structured approach taken to clean and preprocess the dataset, ensuring it is properly formatted for visualization and further analysis.\n",
        "\n",
        "🔹 Why is Data Cleaning and Preprocessing Important?\n",
        "Data cleaning and preprocessing are crucial steps in any data analysis pipeline. Raw data often contains errors, inconsistencies, and missing values, which can lead to misleading insights if left unaddressed. By refining and standardizing the dataset, we enhance the accuracy, reliability, and efficiency of subsequent analyses.\n",
        "\n",
        "## Objectives\n",
        "\n",
        "✅ Handling Missing Values – Identifying and addressing gaps in the data to maintain its completeness and integrity.\n",
        "\n",
        "✅ Removing Duplicates – Eliminating redundant records to ensure data uniqueness and prevent distortions in analysis.\n",
        "\n",
        "✅ Standardizing Column Names – Renaming columns for consistency and readability across different datasets.\n",
        "\n",
        "✅ Formatting Date and Time Variables – Converting date-time fields into structured formats suitable for time-based analysis.\n",
        "\n",
        "✅ Encoding Categorical Variables – Transforming categorical data into numerical formats where required for analysis and modeling.\n",
        "\n",
        "✅ Data Type Standardization – Ensuring each variable is stored in its appropriate format to optimize computational efficiency.\n",
        "\n",
        "## Inputs"
      ]
    },
    {
      "cell_type": "markdown",
      "metadata": {},
      "source": [
        "* initial data sources are 2020.csv,2021.csv, 2022.csv, 2023.csv, 2024.csv.\n",
        "\n",
        "\n",
        "## Outputs\n",
        "\n",
        "* Cleaned and processed data : Combined_Cleaned.csv\n",
        "\n",
        "## Additional Comments\n",
        "\n",
        "* To ensure the data is accurate and suitable for analysis, preprocessing is crucial. This process involves removing missing data, standardizing data types, and eliminating unnecessary variables, thus improving the reliability and analytical value of the dataset."
      ]
    },
    {
      "cell_type": "markdown",
      "metadata": {},
      "source": [
        "# Change working directory"
      ]
    },
    {
      "cell_type": "markdown",
      "metadata": {},
      "source": [
        "We need to change the working directory from its current folder to its parent folder\n",
        "* We access the current directory with os.getcwd()"
      ]
    },
    {
      "cell_type": "code",
      "execution_count": 59,
      "metadata": {},
      "outputs": [
        {
          "data": {
            "text/plain": [
              "'c:\\\\Users\\\\balla\\\\OneDrive\\\\Documents\\\\CapStoneProject_2025\\\\jupyter_notebooks'"
            ]
          },
          "execution_count": 59,
          "metadata": {},
          "output_type": "execute_result"
        }
      ],
      "source": [
        "import os\n",
        "current_dir = os.getcwd()\n",
        "current_dir"
      ]
    },
    {
      "cell_type": "markdown",
      "metadata": {},
      "source": [
        "We want to make the parent of the current directory the new current directory\n",
        "* os.path.dirname() gets the parent directory\n",
        "* os.chir() defines the new current directory"
      ]
    },
    {
      "cell_type": "code",
      "execution_count": 60,
      "metadata": {},
      "outputs": [
        {
          "name": "stdout",
          "output_type": "stream",
          "text": [
            "You set a new current directory\n"
          ]
        }
      ],
      "source": [
        "os.chdir(os.path.dirname(current_dir))\n",
        "print(\"You set a new current directory\")"
      ]
    },
    {
      "cell_type": "markdown",
      "metadata": {},
      "source": [
        "Confirm the new current directory"
      ]
    },
    {
      "cell_type": "code",
      "execution_count": 61,
      "metadata": {},
      "outputs": [
        {
          "data": {
            "text/plain": [
              "'c:\\\\Users\\\\balla\\\\OneDrive\\\\Documents\\\\CapStoneProject_2025'"
            ]
          },
          "execution_count": 61,
          "metadata": {},
          "output_type": "execute_result"
        }
      ],
      "source": [
        "current_dir = os.getcwd()\n",
        "current_dir"
      ]
    },
    {
      "cell_type": "markdown",
      "metadata": {},
      "source": [
        "* 1.1 Import Data\n",
        "\n",
        "Loading the data from a CSV file into a Pandas DataFrame as the Pandas library contains helpful methods for loading, cleaning, and transforming data."
      ]
    },
    {
      "cell_type": "code",
      "execution_count": 62,
      "metadata": {},
      "outputs": [],
      "source": [
        "''' Importing necessary libraries\n",
        "    1) Pandas: for data manipulation and analysis\n",
        "    2) NumPy: for numerical operations\n",
        "'''\n",
        "import pandas as pd  \n",
        "import numpy as np"
      ]
    },
    {
      "cell_type": "markdown",
      "metadata": {},
      "source": [
        "After importing these libraries, load in the raw dataset using the read_csv() function.\n",
        "\n",
        "* 1.2 Undertanding Data\n",
        "\n",
        "This part focuses on:\n",
        "\n",
        "Analyzing the structure and data types of the dataset.\n",
        "Addressing any incorrect or mismatched data types.\n",
        "Renaming the fldDateTimeShot column to date for clarity.\n",
        "Detecting and handling any missing or null values within the dataset.\n",
        "\n",
        "Checking  each csv file.\n",
        "\n",
        "info() method to print data types and non-null counts for each column.\n",
        "\n",
        "head() method to display the first five rows for inspection.\n",
        "\n",
        "isnull() function is used to identify missing (null or NaN) values in a dataset.\n"
      ]
    },
    {
      "cell_type": "code",
      "execution_count": 63,
      "metadata": {},
      "outputs": [
        {
          "name": "stdout",
          "output_type": "stream",
          "text": [
            "<class 'pandas.core.frame.DataFrame'>\n",
            "RangeIndex: 143 entries, 0 to 142\n",
            "Data columns (total 11 columns):\n",
            " #   Column                        Non-Null Count  Dtype  \n",
            "---  ------                        --------------  -----  \n",
            " 0   Country name                  143 non-null    object \n",
            " 1   Happiness Rank                143 non-null    int64  \n",
            " 2   Happiness score               143 non-null    float64\n",
            " 3   Upperwhisker                  143 non-null    float64\n",
            " 4   Lowerwhisker                  143 non-null    float64\n",
            " 5   Economy (GDP per Capita)\t     140 non-null    float64\n",
            " 6   Social support                140 non-null    float64\n",
            " 7   Healthy life expectancy       140 non-null    float64\n",
            " 8   Freedom to make life choices  140 non-null    float64\n",
            " 9   Generosity                    140 non-null    float64\n",
            " 10  Perceptions of corruption     140 non-null    float64\n",
            "dtypes: float64(9), int64(1), object(1)\n",
            "memory usage: 12.4+ KB\n",
            "None\n",
            "Country name                    0\n",
            "Happiness Rank                  0\n",
            "Happiness score                 0\n",
            "Upperwhisker                    0\n",
            "Lowerwhisker                    0\n",
            "Economy (GDP per Capita)\\t      3\n",
            "Social support                  3\n",
            "Healthy life expectancy         3\n",
            "Freedom to make life choices    3\n",
            "Generosity                      3\n",
            "Perceptions of corruption       3\n",
            "dtype: int64\n"
          ]
        }
      ],
      "source": [
        "df_2024 = pd.read_csv(r\"C:\\Users\\balla\\OneDrive\\Documents\\CapStoneProject_2025\\Data\\2024.csv\")\n",
        "print(df_2024.info())\n",
        "print(df_2024.isnull().sum())"
      ]
    },
    {
      "cell_type": "code",
      "execution_count": 64,
      "metadata": {},
      "outputs": [
        {
          "name": "stdout",
          "output_type": "stream",
          "text": [
            "Country_name                    0\n",
            "Happiness_Rank                  0\n",
            "Happiness_score                 0\n",
            "Upperwhisker                    0\n",
            "Lowerwhisker                    0\n",
            "Economy_GDP_per_Capita          0\n",
            "Social_support                  0\n",
            "Healthy_life_expectancy         0\n",
            "Freedom_to_make_life_choices    0\n",
            "Generosity                      0\n",
            "Perceptions_of_corruption       0\n",
            "dtype: int64\n",
            "Index(['Country_name', 'Happiness_Rank', 'Happiness_score', 'Upperwhisker',\n",
            "       'Lowerwhisker', 'Economy_GDP_per_Capita', 'Social_support',\n",
            "       'Healthy_life_expectancy', 'Freedom_to_make_life_choices', 'Generosity',\n",
            "       'Perceptions_of_corruption'],\n",
            "      dtype='object')\n"
          ]
        }
      ],
      "source": [
        "\n",
        "# Clean colums names\n",
        "df_2024.columns = df_2024.columns.str.replace(' ', '_').str.replace('[', '').str.replace(']', '').str.replace('(', '').str.replace(')', '').str.replace('\\t', '')\n",
        "\n",
        "# fill missing values with the mean of the column\n",
        "df_2024['Economy_GDP_per_Capita'] = df_2024['Economy_GDP_per_Capita'].fillna(df_2024['Economy_GDP_per_Capita'].mean())\n",
        "df_2024['Social_support'] = df_2024['Social_support'].fillna(df_2024['Social_support'].mean())\n",
        "df_2024['Healthy_life_expectancy'] = df_2024['Healthy_life_expectancy'].fillna(df_2024['Healthy_life_expectancy'].mean())\n",
        "df_2024['Freedom_to_make_life_choices'] = df_2024['Freedom_to_make_life_choices'].fillna(df_2024['Freedom_to_make_life_choices'].mean())\n",
        "df_2024['Generosity'] = df_2024['Generosity'].fillna(df_2024['Generosity'].mean())\n",
        "df_2024['Perceptions_of_corruption'] = df_2024['Perceptions_of_corruption'].fillna(df_2024['Perceptions_of_corruption'].mean())\n",
        "\n",
        "# check for missing values\n",
        "print(df_2024.isnull().sum())\n",
        "print(df_2024.columns)\n"
      ]
    },
    {
      "cell_type": "code",
      "execution_count": 65,
      "metadata": {},
      "outputs": [
        {
          "name": "stdout",
          "output_type": "stream",
          "text": [
            "<class 'pandas.core.frame.DataFrame'>\n",
            "RangeIndex: 137 entries, 0 to 136\n",
            "Data columns (total 11 columns):\n",
            " #   Column                        Non-Null Count  Dtype  \n",
            "---  ------                        --------------  -----  \n",
            " 0   Country name                  137 non-null    object \n",
            " 1   Happiness Rank                137 non-null    int64  \n",
            " 2   Happiness score               137 non-null    float64\n",
            " 3   Upperwhisker                  137 non-null    float64\n",
            " 4   Lowerwhisker                  137 non-null    float64\n",
            " 5   Economy (GDP per Capita)\t     137 non-null    float64\n",
            " 6   Social support                137 non-null    float64\n",
            " 7   Healthy life expectancy       136 non-null    float64\n",
            " 8   Freedom to make life choices  137 non-null    float64\n",
            " 9   Generosity                    137 non-null    float64\n",
            " 10  Perceptions of corruption     137 non-null    float64\n",
            "dtypes: float64(9), int64(1), object(1)\n",
            "memory usage: 11.9+ KB\n",
            "None\n",
            "Country name                    0\n",
            "Happiness Rank                  0\n",
            "Happiness score                 0\n",
            "Upperwhisker                    0\n",
            "Lowerwhisker                    0\n",
            "Economy (GDP per Capita)\\t      0\n",
            "Social support                  0\n",
            "Healthy life expectancy         1\n",
            "Freedom to make life choices    0\n",
            "Generosity                      0\n",
            "Perceptions of corruption       0\n",
            "dtype: int64\n"
          ]
        }
      ],
      "source": [
        "df_2023 = pd.read_csv(r\"C:\\Users\\balla\\OneDrive\\Documents\\CapStoneProject_2025\\Data\\2023.csv\")\n",
        "\n",
        "print(df_2023.info())\n",
        "print(df_2023.isnull().sum())"
      ]
    },
    {
      "cell_type": "code",
      "execution_count": 66,
      "metadata": {},
      "outputs": [
        {
          "name": "stdout",
          "output_type": "stream",
          "text": [
            "Country_name                    0\n",
            "Happiness_Rank                  0\n",
            "Happiness_score                 0\n",
            "Upperwhisker                    0\n",
            "Lowerwhisker                    0\n",
            "Economy_GDP_per_Capita          0\n",
            "Social_support                  0\n",
            "Healthy_life_expectancy         0\n",
            "Freedom_to_make_life_choices    0\n",
            "Generosity                      0\n",
            "Perceptions_of_corruption       0\n",
            "dtype: int64\n",
            "Index(['Country_name', 'Happiness_Rank', 'Happiness_score', 'Upperwhisker',\n",
            "       'Lowerwhisker', 'Economy_GDP_per_Capita', 'Social_support',\n",
            "       'Healthy_life_expectancy', 'Freedom_to_make_life_choices', 'Generosity',\n",
            "       'Perceptions_of_corruption'],\n",
            "      dtype='object')\n"
          ]
        }
      ],
      "source": [
        "\n",
        "# Clean colums names\n",
        "df_2023.columns = df_2023.columns.str.replace(' ', '_').str.replace('[', '').str.replace(']', '').str.replace('(', '').str.replace(')', '').str.replace('\\t', '')\n",
        "\n",
        "# fill missing values with the mean of the column\n",
        "df_2023['Healthy_life_expectancy'] = df_2023['Healthy_life_expectancy'].fillna(df_2023['Healthy_life_expectancy'].mean())\n",
        "\n",
        "# check for missing values\n",
        "print(df_2023.isnull().sum())\n",
        "print(df_2023.columns)\n"
      ]
    },
    {
      "cell_type": "code",
      "execution_count": 67,
      "metadata": {},
      "outputs": [
        {
          "name": "stdout",
          "output_type": "stream",
          "text": [
            "<class 'pandas.core.frame.DataFrame'>\n",
            "RangeIndex: 146 entries, 0 to 145\n",
            "Data columns (total 11 columns):\n",
            " #   Column                        Non-Null Count  Dtype  \n",
            "---  ------                        --------------  -----  \n",
            " 0   Country name                  146 non-null    object \n",
            " 1   Happiness Rank                146 non-null    int64  \n",
            " 2   Happiness score               146 non-null    float64\n",
            " 3   Upperwhisker                  146 non-null    float64\n",
            " 4   Lowerwhisker                  146 non-null    float64\n",
            " 5   Economy (GDP per Capita)\t     146 non-null    float64\n",
            " 6   Social support                146 non-null    float64\n",
            " 7   Healthy life expectancy       146 non-null    float64\n",
            " 8   Freedom to make life choices  146 non-null    float64\n",
            " 9   Generosity                    146 non-null    float64\n",
            " 10  Perceptions of corruption     146 non-null    float64\n",
            "dtypes: float64(9), int64(1), object(1)\n",
            "memory usage: 12.7+ KB\n",
            "None\n",
            "Country name                    0\n",
            "Happiness Rank                  0\n",
            "Happiness score                 0\n",
            "Upperwhisker                    0\n",
            "Lowerwhisker                    0\n",
            "Economy (GDP per Capita)\\t      0\n",
            "Social support                  0\n",
            "Healthy life expectancy         0\n",
            "Freedom to make life choices    0\n",
            "Generosity                      0\n",
            "Perceptions of corruption       0\n",
            "dtype: int64\n"
          ]
        }
      ],
      "source": [
        "df_2022 = pd.read_csv(r\"C:\\Users\\balla\\OneDrive\\Documents\\CapStoneProject_2025\\Data\\2022.csv\")\n",
        "\n",
        "print(df_2022.info())\n",
        "print(df_2022.isnull().sum())\n"
      ]
    },
    {
      "cell_type": "code",
      "execution_count": 68,
      "metadata": {},
      "outputs": [
        {
          "name": "stdout",
          "output_type": "stream",
          "text": [
            "Index(['Country_name', 'Happiness_Rank', 'Happiness_score', 'Upperwhisker',\n",
            "       'Lowerwhisker', 'Economy_GDP_per_Capita', 'Social_support',\n",
            "       'Healthy_life_expectancy', 'Freedom_to_make_life_choices', 'Generosity',\n",
            "       'Perceptions_of_corruption'],\n",
            "      dtype='object')\n"
          ]
        }
      ],
      "source": [
        "# Clean colums names\n",
        "df_2022.columns = df_2022.columns.str.replace(' ', '_').str.replace('[', '').str.replace(']', '').str.replace('(', '').str.replace(')', '').str.replace('\\t', '')\n",
        "\n",
        "print(df_2022.columns)\n"
      ]
    },
    {
      "cell_type": "code",
      "execution_count": 69,
      "metadata": {},
      "outputs": [
        {
          "name": "stdout",
          "output_type": "stream",
          "text": [
            "<class 'pandas.core.frame.DataFrame'>\n",
            "RangeIndex: 149 entries, 0 to 148\n",
            "Data columns (total 11 columns):\n",
            " #   Column                        Non-Null Count  Dtype  \n",
            "---  ------                        --------------  -----  \n",
            " 0   Country name                  149 non-null    object \n",
            " 1   Happiness Rank                149 non-null    int64  \n",
            " 2   Happiness score               149 non-null    float64\n",
            " 3   Upperwhisker                  149 non-null    float64\n",
            " 4   Lowerwhisker                  149 non-null    float64\n",
            " 5   Economy (GDP per Capita)\t     149 non-null    float64\n",
            " 6   Social support                149 non-null    float64\n",
            " 7   Healthy life expectancy       149 non-null    float64\n",
            " 8   Freedom to make life choices  149 non-null    float64\n",
            " 9   Generosity                    149 non-null    float64\n",
            " 10  Perceptions of corruption     149 non-null    float64\n",
            "dtypes: float64(9), int64(1), object(1)\n",
            "memory usage: 12.9+ KB\n",
            "None\n",
            "Country name                    0\n",
            "Happiness Rank                  0\n",
            "Happiness score                 0\n",
            "Upperwhisker                    0\n",
            "Lowerwhisker                    0\n",
            "Economy (GDP per Capita)\\t      0\n",
            "Social support                  0\n",
            "Healthy life expectancy         0\n",
            "Freedom to make life choices    0\n",
            "Generosity                      0\n",
            "Perceptions of corruption       0\n",
            "dtype: int64\n"
          ]
        }
      ],
      "source": [
        "df_2021 = pd.read_csv(r\"C:\\Users\\balla\\OneDrive\\Documents\\CapStoneProject_2025\\Data\\2021.csv\")\n",
        "print(df_2021.info())\n",
        "print(df_2021.isnull().sum())\n"
      ]
    },
    {
      "cell_type": "code",
      "execution_count": 70,
      "metadata": {},
      "outputs": [
        {
          "name": "stdout",
          "output_type": "stream",
          "text": [
            "Index(['Country_name', 'Happiness_Rank', 'Happiness_score', 'Upperwhisker',\n",
            "       'Lowerwhisker', 'Economy_GDP_per_Capita', 'Social_support',\n",
            "       'Healthy_life_expectancy', 'Freedom_to_make_life_choices', 'Generosity',\n",
            "       'Perceptions_of_corruption'],\n",
            "      dtype='object')\n"
          ]
        }
      ],
      "source": [
        "# Clean colums names\n",
        "df_2021.columns = df_2021.columns.str.replace(' ', '_').str.replace('[', '').str.replace(']', '').str.replace('(', '').str.replace(')', '').str.replace('\\t', '')\n",
        "\n",
        "print(df_2021.columns)"
      ]
    },
    {
      "cell_type": "code",
      "execution_count": 71,
      "metadata": {},
      "outputs": [
        {
          "name": "stdout",
          "output_type": "stream",
          "text": [
            "<class 'pandas.core.frame.DataFrame'>\n",
            "RangeIndex: 153 entries, 0 to 152\n",
            "Data columns (total 11 columns):\n",
            " #   Column                        Non-Null Count  Dtype  \n",
            "---  ------                        --------------  -----  \n",
            " 0   Country name                  153 non-null    object \n",
            " 1   Happiness Rank                153 non-null    int64  \n",
            " 2   Happiness score               153 non-null    float64\n",
            " 3   Upperwhisker                  153 non-null    float64\n",
            " 4   Lowerwhisker                  153 non-null    float64\n",
            " 5   Economy (GDP per Capita)\t     153 non-null    float64\n",
            " 6   Social support                153 non-null    float64\n",
            " 7   Healthy life expectancy       153 non-null    float64\n",
            " 8   Freedom to make life choices  153 non-null    float64\n",
            " 9   Generosity                    153 non-null    float64\n",
            " 10  Perceptions of corruption     153 non-null    float64\n",
            "dtypes: float64(9), int64(1), object(1)\n",
            "memory usage: 13.3+ KB\n",
            "None\n",
            "Country name                    0\n",
            "Happiness Rank                  0\n",
            "Happiness score                 0\n",
            "Upperwhisker                    0\n",
            "Lowerwhisker                    0\n",
            "Economy (GDP per Capita)\\t      0\n",
            "Social support                  0\n",
            "Healthy life expectancy         0\n",
            "Freedom to make life choices    0\n",
            "Generosity                      0\n",
            "Perceptions of corruption       0\n",
            "dtype: int64\n"
          ]
        }
      ],
      "source": [
        "df_2020 = pd.read_csv(r\"C:\\Users\\balla\\OneDrive\\Documents\\CapStoneProject_2025\\Data\\2020.csv\")\n",
        "print(df_2020.info())\n",
        "print(df_2020.isnull().sum())"
      ]
    },
    {
      "cell_type": "code",
      "execution_count": 72,
      "metadata": {},
      "outputs": [
        {
          "name": "stdout",
          "output_type": "stream",
          "text": [
            "Index(['Country_name', 'Happiness_Rank', 'Happiness_score', 'Upperwhisker',\n",
            "       'Lowerwhisker', 'Economy_GDP_per_Capita', 'Social_support',\n",
            "       'Healthy_life_expectancy', 'Freedom_to_make_life_choices', 'Generosity',\n",
            "       'Perceptions_of_corruption'],\n",
            "      dtype='object')\n"
          ]
        }
      ],
      "source": [
        "# Clean colums names\n",
        "df_2020.columns = df_2020.columns.str.replace(' ', '_').str.replace('[', '').str.replace(']', '').str.replace('(', '').str.replace(')', '').str.replace('\\t', '')\n",
        "\n",
        "print(df_2020.columns)"
      ]
    },
    {
      "cell_type": "code",
      "execution_count": 73,
      "metadata": {},
      "outputs": [],
      "source": [
        "import pandas as pd\n",
        "import glob\n",
        "import os"
      ]
    },
    {
      "cell_type": "code",
      "execution_count": 75,
      "metadata": {},
      "outputs": [],
      "source": [
        "file_paths = [\n",
        "    r\"C:\\Users\\balla\\OneDrive\\Documents\\CapStoneProject_2025\\Data\\2020.csv\",\n",
        "    r\"C:\\Users\\balla\\OneDrive\\Documents\\CapStoneProject_2025\\Data\\2021.csv\",\n",
        "    r\"C:\\Users\\balla\\OneDrive\\Documents\\CapStoneProject_2025\\Data\\2022.csv\",\n",
        "    r\"C:\\Users\\balla\\OneDrive\\Documents\\CapStoneProject_2025\\Data\\2023.csv\",\n",
        "    r\"C:\\Users\\balla\\OneDrive\\Documents\\CapStoneProject_2025\\Data\\2024.csv\"\n",
        "]"
      ]
    },
    {
      "cell_type": "code",
      "execution_count": 76,
      "metadata": {},
      "outputs": [
        {
          "name": "stdout",
          "output_type": "stream",
          "text": [
            "✅ C:\\Users\\balla\\OneDrive\\Documents\\CapStoneProject_2025\\Data\\2020.csv successfully loaded! Rows-Columns: (153, 12)\n",
            "✅ C:\\Users\\balla\\OneDrive\\Documents\\CapStoneProject_2025\\Data\\2021.csv successfully loaded! Rows-Columns: (149, 12)\n",
            "✅ C:\\Users\\balla\\OneDrive\\Documents\\CapStoneProject_2025\\Data\\2022.csv successfully loaded! Rows-Columns: (146, 12)\n",
            "✅ C:\\Users\\balla\\OneDrive\\Documents\\CapStoneProject_2025\\Data\\2023.csv successfully loaded! Rows-Columns: (137, 12)\n",
            "✅ C:\\Users\\balla\\OneDrive\\Documents\\CapStoneProject_2025\\Data\\2024.csv successfully loaded! Rows-Columns: (143, 12)\n",
            "✅ All files successfully combined!\n",
            "✅ Combined file successfully saved:C:\\Users\\balla\\OneDrive\\Documents\\CapStoneProject_2025\\Data\\combined_20202024.csv\n"
          ]
        }
      ],
      "source": [
        "df_list = []  # create empty list to store dataframes\n",
        "for file in file_paths:\n",
        "    try:\n",
        "        df = pd.read_csv(file)\n",
        "        year = os.path.basename(file).split('.')[0]  # extract year from filaname (example \"2020.csv\" → \"2020\")\n",
        "        df[\"Year\"] = int(year)  # Add new 'Year' column\n",
        "        df_list.append(df)  # Add DataFrame to the list\n",
        "        print(f\"✅ {file} successfully loaded! Rows-Columns: {df.shape}\")\n",
        "    except Exception as e:\n",
        "        print(f\"❌ Error occurred:{file} could not be loaded! Error: {e}\")\n",
        "\n",
        "# If no files were loaded, stop the program\n",
        "if len(df_list) == 0:\n",
        "    print(\"❌ No files were loaded! Please check the file paths and formats.\")\n",
        "else:\n",
        "    df_combined = pd.concat(df_list, ignore_index=True)\n",
        "    print(\"✅ All files successfully combined!\")\n",
        "\n",
        "# File saving path\n",
        "output_path = r\"C:\\Users\\balla\\OneDrive\\Documents\\CapStoneProject_2025\\Data\\combined_20202024.csv\"\n",
        "df_combined.to_csv(output_path, index=False)\n",
        "print(f\"✅ Combined file successfully saved:{output_path}\")"
      ]
    },
    {
      "cell_type": "code",
      "execution_count": 77,
      "metadata": {},
      "outputs": [
        {
          "name": "stdout",
          "output_type": "stream",
          "text": [
            "<class 'pandas.core.frame.DataFrame'>\n",
            "RangeIndex: 728 entries, 0 to 727\n",
            "Data columns (total 12 columns):\n",
            " #   Column                        Non-Null Count  Dtype  \n",
            "---  ------                        --------------  -----  \n",
            " 0   Country name                  728 non-null    object \n",
            " 1   Happiness Rank                728 non-null    int64  \n",
            " 2   Happiness score               728 non-null    float64\n",
            " 3   Upperwhisker                  728 non-null    float64\n",
            " 4   Lowerwhisker                  728 non-null    float64\n",
            " 5   Economy (GDP per Capita)\t     725 non-null    float64\n",
            " 6   Social support                725 non-null    float64\n",
            " 7   Healthy life expectancy       724 non-null    float64\n",
            " 8   Freedom to make life choices  725 non-null    float64\n",
            " 9   Generosity                    725 non-null    float64\n",
            " 10  Perceptions of corruption     725 non-null    float64\n",
            " 11  Year                          728 non-null    int64  \n",
            "dtypes: float64(9), int64(2), object(1)\n",
            "memory usage: 68.4+ KB\n",
            "None\n",
            "Country name                    0\n",
            "Happiness Rank                  0\n",
            "Happiness score                 0\n",
            "Upperwhisker                    0\n",
            "Lowerwhisker                    0\n",
            "Economy (GDP per Capita)\\t      3\n",
            "Social support                  3\n",
            "Healthy life expectancy         4\n",
            "Freedom to make life choices    3\n",
            "Generosity                      3\n",
            "Perceptions of corruption       3\n",
            "Year                            0\n",
            "dtype: int64\n"
          ]
        }
      ],
      "source": [
        "df_combined_20202024 = pd.read_csv(r\"C:\\Users\\balla\\OneDrive\\Documents\\CapStoneProject_2025\\Data\\combined_20202024.csv\")\n",
        "print(df_combined_20202024.info())\n",
        "print(df_combined_20202024.isnull().sum())"
      ]
    },
    {
      "cell_type": "code",
      "execution_count": 78,
      "metadata": {},
      "outputs": [
        {
          "name": "stdout",
          "output_type": "stream",
          "text": [
            "Country_name                    0\n",
            "Happiness_Rank                  0\n",
            "Happiness_score                 0\n",
            "Upperwhisker                    0\n",
            "Lowerwhisker                    0\n",
            "Economy_GDP_per_Capita          0\n",
            "Social_support                  0\n",
            "Healthy_life_expectancy         0\n",
            "Freedom_to_make_life_choices    0\n",
            "Generosity                      0\n",
            "Perceptions_of_corruption       0\n",
            "Year                            0\n",
            "dtype: int64\n",
            "Index(['Country_name', 'Happiness_Rank', 'Happiness_score', 'Upperwhisker',\n",
            "       'Lowerwhisker', 'Economy_GDP_per_Capita', 'Social_support',\n",
            "       'Healthy_life_expectancy', 'Freedom_to_make_life_choices', 'Generosity',\n",
            "       'Perceptions_of_corruption', 'Year'],\n",
            "      dtype='object')\n"
          ]
        }
      ],
      "source": [
        "# Clean colums names\n",
        "df_combined_20202024.columns = df_combined_20202024.columns.str.replace(' ', '_').str.replace('[', '').str.replace(']', '').str.replace('(', '').str.replace(')', '').str.replace('\\t', '')\n",
        "\n",
        "# fill missing values with the mean of the column\n",
        "df_combined_20202024['Healthy_life_expectancy'] = df_combined_20202024['Healthy_life_expectancy'].fillna(df_combined_20202024['Healthy_life_expectancy'].mean())\n",
        "df_combined_20202024['Economy_GDP_per_Capita'] = df_combined_20202024['Economy_GDP_per_Capita'].fillna(df_combined_20202024['Economy_GDP_per_Capita'].mean())\n",
        "df_combined_20202024['Social_support'] = df_combined_20202024['Social_support'].fillna(df_combined_20202024['Social_support'].mean())\n",
        "df_combined_20202024['Freedom_to_make_life_choices'] = df_combined_20202024['Freedom_to_make_life_choices'].fillna(df_combined_20202024['Freedom_to_make_life_choices'].mean())\n",
        "df_combined_20202024['Generosity'] = df_combined_20202024['Generosity'].fillna(df_combined_20202024['Generosity'].mean())\n",
        "df_combined_20202024['Perceptions_of_corruption'] = df_combined_20202024['Perceptions_of_corruption'].fillna(df_combined_20202024['Perceptions_of_corruption'].mean())\n",
        "\n",
        "# check for missing values\n",
        "print(df_combined_20202024.isnull().sum())\n",
        "print(df_combined_20202024.columns)\n"
      ]
    },
    {
      "cell_type": "code",
      "execution_count": 81,
      "metadata": {},
      "outputs": [
        {
          "name": "stdout",
          "output_type": "stream",
          "text": [
            " Total 0 duplicated rows.\n"
          ]
        }
      ],
      "source": [
        "# check for duplicates\n",
        "duplicates = df_combined_20202024.duplicated()\n",
        "print(f\" Total {duplicates.sum()} duplicated rows.\")\n"
      ]
    },
    {
      "cell_type": "code",
      "execution_count": 83,
      "metadata": {},
      "outputs": [
        {
          "name": "stdout",
          "output_type": "stream",
          "text": [
            "datetime64[ns]\n"
          ]
        }
      ],
      "source": [
        "# change the format of 'year' column to datetime\n",
        "df_combined_20202024['Year'] = pd.to_datetime(df_combined_20202024['Year'], format='%Y')\n",
        "\n",
        "# check the format of 'year' column\n",
        "print(df_combined_20202024['Year'].dtype)\n"
      ]
    },
    {
      "cell_type": "code",
      "execution_count": 86,
      "metadata": {},
      "outputs": [
        {
          "name": "stdout",
          "output_type": "stream",
          "text": [
            "✅ file successfully saved!\n"
          ]
        }
      ],
      "source": [
        "# Save new csv file\n",
        "df_combined_20202024.to_csv(r\"C:\\Users\\balla\\OneDrive\\Documents\\CapStoneProject_2025\\Data\\Combined_Cleaned.csv\", index=False)\n",
        "\n",
        "print(\"✅ file successfully saved!\")\n"
      ]
    },
    {
      "cell_type": "code",
      "execution_count": 87,
      "metadata": {},
      "outputs": [
        {
          "name": "stdout",
          "output_type": "stream",
          "text": [
            "✅ File successfully saved and exists in the directory!\n"
          ]
        }
      ],
      "source": [
        "import os\n",
        "\n",
        "file_path = r\"C:\\Users\\balla\\OneDrive\\Documents\\CapStoneProject_2025\\Data\\Combined_Cleaned.csv\"\n",
        "\n",
        "if os.path.exists(file_path):\n",
        "    print(\"✅ File successfully saved and exists in the directory!\")\n",
        "else:\n",
        "    print(\"❌ File saving failed!\")\n"
      ]
    },
    {
      "cell_type": "code",
      "execution_count": null,
      "metadata": {},
      "outputs": [
        {
          "name": "stdout",
          "output_type": "stream",
          "text": [
            "Index(['Country_name', 'Happiness_Rank', 'Happiness_score', 'Upperwhisker',\n",
            "       'Lowerwhisker', 'Economy_GDP_per_Capita', 'Social_support',\n",
            "       'Healthy_life_expectancy', 'Freedom_to_make_life_choices', 'Generosity',\n",
            "       'Perceptions_of_corruption', 'Year'],\n",
            "      dtype='object')\n"
          ]
        }
      ],
      "source": [
        "# load the cleaned dataset\n",
        "df_Combined_Cleaned = pd.read_csv(r\"C:\\Users\\balla\\OneDrive\\Documents\\CapStoneProject_2025\\Data\\Combined_Cleaned.csv\")\n",
        "\n",
        "# check the columns\n",
        "print(df_Combined_Cleaned.columns)\n"
      ]
    },
    {
      "cell_type": "markdown",
      "metadata": {},
      "source": []
    },
    {
      "cell_type": "markdown",
      "metadata": {
        "id": "9uWZXH9LwoQg"
      },
      "source": [
        "---"
      ]
    },
    {
      "cell_type": "markdown",
      "metadata": {},
      "source": [
        "---"
      ]
    },
    {
      "cell_type": "markdown",
      "metadata": {},
      "source": [
        "---"
      ]
    }
  ],
  "metadata": {
    "accelerator": "GPU",
    "colab": {
      "name": "Data Practitioner Jupyter Notebook.ipynb",
      "provenance": [],
      "toc_visible": true
    },
    "kernelspec": {
      "display_name": ".venv",
      "language": "python",
      "name": "python3"
    },
    "language_info": {
      "codemirror_mode": {
        "name": "ipython",
        "version": 3
      },
      "file_extension": ".py",
      "mimetype": "text/x-python",
      "name": "python",
      "nbconvert_exporter": "python",
      "pygments_lexer": "ipython3",
      "version": "3.11.9"
    },
    "orig_nbformat": 2
  },
  "nbformat": 4,
  "nbformat_minor": 2
}
