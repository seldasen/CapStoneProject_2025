{
  "cells": [
    {
      "cell_type": "markdown",
      "metadata": {
        "id": "0aStgWSO0E0E"
      },
      "source": [
        "# **WORLD HAPPINESS REPORT**\n"
      ]
    },
    {
      "cell_type": "code",
      "execution_count": 3,
      "metadata": {},
      "outputs": [],
      "source": [
        "import pandas as pd  \n",
        "import numpy as np"
      ]
    },
    {
      "cell_type": "markdown",
      "metadata": {},
      "source": [
        "Checking the columns in each csv file."
      ]
    },
    {
      "cell_type": "code",
      "execution_count": 4,
      "metadata": {},
      "outputs": [
        {
          "name": "stdout",
          "output_type": "stream",
          "text": [
            "<class 'pandas.core.frame.DataFrame'>\n",
            "RangeIndex: 143 entries, 0 to 142\n",
            "Data columns (total 11 columns):\n",
            " #   Column                        Non-Null Count  Dtype  \n",
            "---  ------                        --------------  -----  \n",
            " 0   Country name                  143 non-null    object \n",
            " 1   Happiness Rank                143 non-null    int64  \n",
            " 2   Happiness score               143 non-null    float64\n",
            " 3   Upperwhisker                  143 non-null    float64\n",
            " 4   Lowerwhisker                  143 non-null    float64\n",
            " 5   Economy (GDP per Capita)\t     140 non-null    float64\n",
            " 6   Social support                140 non-null    float64\n",
            " 7   Healthy life expectancy       140 non-null    float64\n",
            " 8   Freedom to make life choices  140 non-null    float64\n",
            " 9   Generosity                    140 non-null    float64\n",
            " 10  Perceptions of corruption     140 non-null    float64\n",
            "dtypes: float64(9), int64(1), object(1)\n",
            "memory usage: 12.4+ KB\n",
            "None\n",
            "Country name                    0\n",
            "Happiness Rank                  0\n",
            "Happiness score                 0\n",
            "Upperwhisker                    0\n",
            "Lowerwhisker                    0\n",
            "Economy (GDP per Capita)\\t      3\n",
            "Social support                  3\n",
            "Healthy life expectancy         3\n",
            "Freedom to make life choices    3\n",
            "Generosity                      3\n",
            "Perceptions of corruption       3\n",
            "dtype: int64\n"
          ]
        }
      ],
      "source": [
        "df_2024 = pd.read_csv(r\"C:\\Users\\balla\\OneDrive\\Documents\\CapStoneProject_2025\\2024.csv\")\n",
        "print(df_2024.info())\n",
        "print(df_2024.isnull().sum())"
      ]
    },
    {
      "cell_type": "code",
      "execution_count": 5,
      "metadata": {},
      "outputs": [
        {
          "name": "stdout",
          "output_type": "stream",
          "text": [
            "<class 'pandas.core.frame.DataFrame'>\n",
            "RangeIndex: 137 entries, 0 to 136\n",
            "Data columns (total 11 columns):\n",
            " #   Column                        Non-Null Count  Dtype  \n",
            "---  ------                        --------------  -----  \n",
            " 0   Country name                  137 non-null    object \n",
            " 1   Happiness Rank                137 non-null    int64  \n",
            " 2   Happiness score               137 non-null    float64\n",
            " 3   Upperwhisker                  137 non-null    float64\n",
            " 4   Lowerwhisker                  137 non-null    float64\n",
            " 5   Economy (GDP per Capita)\t     137 non-null    float64\n",
            " 6   Social support                137 non-null    float64\n",
            " 7   Healthy life expectancy       136 non-null    float64\n",
            " 8   Freedom to make life choices  137 non-null    float64\n",
            " 9   Generosity                    137 non-null    float64\n",
            " 10  Perceptions of corruption     137 non-null    float64\n",
            "dtypes: float64(9), int64(1), object(1)\n",
            "memory usage: 11.9+ KB\n",
            "None\n",
            "Country name                    0\n",
            "Happiness Rank                  0\n",
            "Happiness score                 0\n",
            "Upperwhisker                    0\n",
            "Lowerwhisker                    0\n",
            "Economy (GDP per Capita)\\t      0\n",
            "Social support                  0\n",
            "Healthy life expectancy         1\n",
            "Freedom to make life choices    0\n",
            "Generosity                      0\n",
            "Perceptions of corruption       0\n",
            "dtype: int64\n"
          ]
        }
      ],
      "source": [
        "df_2023 = pd.read_csv(r\"C:\\Users\\balla\\OneDrive\\Documents\\CapStoneProject_2025\\2023.csv\")\n",
        "\n",
        "print(df_2023.info())\n",
        "print(df_2023.isnull().sum())"
      ]
    },
    {
      "cell_type": "code",
      "execution_count": 6,
      "metadata": {},
      "outputs": [
        {
          "name": "stdout",
          "output_type": "stream",
          "text": [
            "<class 'pandas.core.frame.DataFrame'>\n",
            "RangeIndex: 146 entries, 0 to 145\n",
            "Data columns (total 11 columns):\n",
            " #   Column                        Non-Null Count  Dtype  \n",
            "---  ------                        --------------  -----  \n",
            " 0   Country name                  146 non-null    object \n",
            " 1   Happiness Rank                146 non-null    int64  \n",
            " 2   Happiness score               146 non-null    float64\n",
            " 3   Upperwhisker                  146 non-null    float64\n",
            " 4   Lowerwhisker                  146 non-null    float64\n",
            " 5   Economy (GDP per Capita)\t     146 non-null    float64\n",
            " 6   Social support                146 non-null    float64\n",
            " 7   Healthy life expectancy       146 non-null    float64\n",
            " 8   Freedom to make life choices  146 non-null    float64\n",
            " 9   Generosity                    146 non-null    float64\n",
            " 10  Perceptions of corruption     146 non-null    float64\n",
            "dtypes: float64(9), int64(1), object(1)\n",
            "memory usage: 12.7+ KB\n",
            "None\n",
            "Country name                    0\n",
            "Happiness Rank                  0\n",
            "Happiness score                 0\n",
            "Upperwhisker                    0\n",
            "Lowerwhisker                    0\n",
            "Economy (GDP per Capita)\\t      0\n",
            "Social support                  0\n",
            "Healthy life expectancy         0\n",
            "Freedom to make life choices    0\n",
            "Generosity                      0\n",
            "Perceptions of corruption       0\n",
            "dtype: int64\n"
          ]
        }
      ],
      "source": [
        "df_2022 = pd.read_csv(r\"C:\\Users\\balla\\OneDrive\\Documents\\CapStoneProject_2025\\2022.csv\")\n",
        "\n",
        "print(df_2022.info())\n",
        "print(df_2022.isnull().sum())\n"
      ]
    },
    {
      "cell_type": "code",
      "execution_count": 7,
      "metadata": {},
      "outputs": [
        {
          "name": "stdout",
          "output_type": "stream",
          "text": [
            "<class 'pandas.core.frame.DataFrame'>\n",
            "RangeIndex: 149 entries, 0 to 148\n",
            "Data columns (total 11 columns):\n",
            " #   Column                        Non-Null Count  Dtype  \n",
            "---  ------                        --------------  -----  \n",
            " 0   Country name                  149 non-null    object \n",
            " 1   Happiness Rank                149 non-null    int64  \n",
            " 2   Happiness score               149 non-null    float64\n",
            " 3   Upperwhisker                  149 non-null    float64\n",
            " 4   Lowerwhisker                  149 non-null    float64\n",
            " 5   Economy (GDP per Capita)\t     149 non-null    float64\n",
            " 6   Social support                149 non-null    float64\n",
            " 7   Healthy life expectancy       149 non-null    float64\n",
            " 8   Freedom to make life choices  149 non-null    float64\n",
            " 9   Generosity                    149 non-null    float64\n",
            " 10  Perceptions of corruption     149 non-null    float64\n",
            "dtypes: float64(9), int64(1), object(1)\n",
            "memory usage: 12.9+ KB\n",
            "None\n",
            "Country name                    0\n",
            "Happiness Rank                  0\n",
            "Happiness score                 0\n",
            "Upperwhisker                    0\n",
            "Lowerwhisker                    0\n",
            "Economy (GDP per Capita)\\t      0\n",
            "Social support                  0\n",
            "Healthy life expectancy         0\n",
            "Freedom to make life choices    0\n",
            "Generosity                      0\n",
            "Perceptions of corruption       0\n",
            "dtype: int64\n"
          ]
        }
      ],
      "source": [
        "df_2021 = pd.read_csv(r\"C:\\Users\\balla\\OneDrive\\Documents\\CapStoneProject_2025\\2021.csv\")\n",
        "print(df_2021.info())\n",
        "print(df_2021.isnull().sum())\n"
      ]
    },
    {
      "cell_type": "code",
      "execution_count": 8,
      "metadata": {},
      "outputs": [
        {
          "name": "stdout",
          "output_type": "stream",
          "text": [
            "<class 'pandas.core.frame.DataFrame'>\n",
            "RangeIndex: 153 entries, 0 to 152\n",
            "Data columns (total 11 columns):\n",
            " #   Column                        Non-Null Count  Dtype  \n",
            "---  ------                        --------------  -----  \n",
            " 0   Country name                  153 non-null    object \n",
            " 1   Happiness Rank                153 non-null    int64  \n",
            " 2   Happiness score               153 non-null    float64\n",
            " 3   Upperwhisker                  153 non-null    float64\n",
            " 4   Lowerwhisker                  153 non-null    float64\n",
            " 5   Economy (GDP per Capita)\t     153 non-null    float64\n",
            " 6   Social support                153 non-null    float64\n",
            " 7   Healthy life expectancy       153 non-null    float64\n",
            " 8   Freedom to make life choices  153 non-null    float64\n",
            " 9   Generosity                    153 non-null    float64\n",
            " 10  Perceptions of corruption     153 non-null    float64\n",
            "dtypes: float64(9), int64(1), object(1)\n",
            "memory usage: 13.3+ KB\n",
            "None\n",
            "Country name                    0\n",
            "Happiness Rank                  0\n",
            "Happiness score                 0\n",
            "Upperwhisker                    0\n",
            "Lowerwhisker                    0\n",
            "Economy (GDP per Capita)\\t      0\n",
            "Social support                  0\n",
            "Healthy life expectancy         0\n",
            "Freedom to make life choices    0\n",
            "Generosity                      0\n",
            "Perceptions of corruption       0\n",
            "dtype: int64\n"
          ]
        }
      ],
      "source": [
        "df_2020 = pd.read_csv(r\"C:\\Users\\balla\\OneDrive\\Documents\\CapStoneProject_2025\\2020.csv\")\n",
        "print(df_2020.info())\n",
        "print(df_2020.isnull().sum())"
      ]
    },
    {
      "cell_type": "code",
      "execution_count": 9,
      "metadata": {},
      "outputs": [],
      "source": [
        "import pandas as pd\n",
        "import glob\n",
        "import os"
      ]
    },
    {
      "cell_type": "code",
      "execution_count": 10,
      "metadata": {},
      "outputs": [],
      "source": [
        "file_paths = [\n",
        "    r\"C:\\Users\\balla\\OneDrive\\Documents\\CapStoneProject_2025\\2020.csv\",\n",
        "    r\"C:\\Users\\balla\\OneDrive\\Documents\\CapStoneProject_2025\\2021.csv\",\n",
        "    r\"C:\\Users\\balla\\OneDrive\\Documents\\CapStoneProject_2025\\2022.csv\",\n",
        "    r\"C:\\Users\\balla\\OneDrive\\Documents\\CapStoneProject_2025\\2023.csv\",\n",
        "    r\"C:\\Users\\balla\\OneDrive\\Documents\\CapStoneProject_2025\\2024.csv\"\n",
        "]"
      ]
    },
    {
      "cell_type": "code",
      "execution_count": 11,
      "metadata": {},
      "outputs": [
        {
          "name": "stdout",
          "output_type": "stream",
          "text": [
            "✅ C:\\Users\\balla\\OneDrive\\Documents\\CapStoneProject_2025\\2020.csv başarıyla yüklendi! Satır-Sütun: (153, 12)\n",
            "✅ C:\\Users\\balla\\OneDrive\\Documents\\CapStoneProject_2025\\2021.csv başarıyla yüklendi! Satır-Sütun: (149, 12)\n",
            "✅ C:\\Users\\balla\\OneDrive\\Documents\\CapStoneProject_2025\\2022.csv başarıyla yüklendi! Satır-Sütun: (146, 12)\n",
            "✅ C:\\Users\\balla\\OneDrive\\Documents\\CapStoneProject_2025\\2023.csv başarıyla yüklendi! Satır-Sütun: (137, 12)\n",
            "✅ C:\\Users\\balla\\OneDrive\\Documents\\CapStoneProject_2025\\2024.csv başarıyla yüklendi! Satır-Sütun: (143, 12)\n",
            "✅ Tüm dosyalar başarıyla birleştirildi!\n",
            "✅ Birleştirilmiş dosya başarıyla kaydedildi: C:\\Users\\balla\\OneDrive\\Documents\\CapStoneProject_2025\\combined_20202024.csv\n"
          ]
        }
      ],
      "source": [
        "df_list = []  # Boş liste oluştur\n",
        "\n",
        "for file in file_paths:\n",
        "    try:\n",
        "        df = pd.read_csv(file)\n",
        "        year = os.path.basename(file).split('.')[0]  # Dosya adından yılı al (örneğin \"2020.csv\" → \"2020\")\n",
        "        df[\"Year\"] = int(year)  # Yeni 'Year' sütunu ekle\n",
        "        df_list.append(df)  # DataFrame'i listeye ekle\n",
        "        print(f\"✅ {file} başarıyla yüklendi! Satır-Sütun: {df.shape}\")\n",
        "    except Exception as e:\n",
        "        print(f\"❌ Hata oluştu: {file} yüklenemedi! Hata: {e}\")\n",
        "\n",
        "# Eğer dosya yüklenmezse programı durdur\n",
        "if len(df_list) == 0:\n",
        "    print(\"❌ Hiçbir dosya yüklenemedi! Lütfen dosya yollarını ve formatlarını kontrol edin.\")\n",
        "else:\n",
        "    df_combined = pd.concat(df_list, ignore_index=True)\n",
        "    print(\"✅ Tüm dosyalar başarıyla birleştirildi!\")\n",
        "\n",
        "\n",
        "output_path = r\"C:\\Users\\balla\\OneDrive\\Documents\\CapStoneProject_2025\\combined_20202024.csv\"\n",
        "df_combined.to_csv(output_path, index=False)\n",
        "print(f\"✅ Birleştirilmiş dosya başarıyla kaydedildi: {output_path}\")"
      ]
    },
    {
      "cell_type": "code",
      "execution_count": 12,
      "metadata": {},
      "outputs": [
        {
          "name": "stdout",
          "output_type": "stream",
          "text": [
            "<class 'pandas.core.frame.DataFrame'>\n",
            "RangeIndex: 728 entries, 0 to 727\n",
            "Data columns (total 12 columns):\n",
            " #   Column                        Non-Null Count  Dtype  \n",
            "---  ------                        --------------  -----  \n",
            " 0   Country name                  728 non-null    object \n",
            " 1   Happiness Rank                728 non-null    int64  \n",
            " 2   Happiness score               728 non-null    float64\n",
            " 3   Upperwhisker                  728 non-null    float64\n",
            " 4   Lowerwhisker                  728 non-null    float64\n",
            " 5   Economy (GDP per Capita)\t     725 non-null    float64\n",
            " 6   Social support                725 non-null    float64\n",
            " 7   Healthy life expectancy       724 non-null    float64\n",
            " 8   Freedom to make life choices  725 non-null    float64\n",
            " 9   Generosity                    725 non-null    float64\n",
            " 10  Perceptions of corruption     725 non-null    float64\n",
            " 11  Year                          728 non-null    int64  \n",
            "dtypes: float64(9), int64(2), object(1)\n",
            "memory usage: 68.4+ KB\n",
            "None\n",
            "Country name                    0\n",
            "Happiness Rank                  0\n",
            "Happiness score                 0\n",
            "Upperwhisker                    0\n",
            "Lowerwhisker                    0\n",
            "Economy (GDP per Capita)\\t      3\n",
            "Social support                  3\n",
            "Healthy life expectancy         4\n",
            "Freedom to make life choices    3\n",
            "Generosity                      3\n",
            "Perceptions of corruption       3\n",
            "Year                            0\n",
            "dtype: int64\n"
          ]
        }
      ],
      "source": [
        "df_combined_20202024 = pd.read_csv(r\"C:\\Users\\balla\\OneDrive\\Documents\\CapStoneProject_2025\\combined_20202024.csv\")\n",
        "print(df_combined_20202024.info())\n",
        "print(df_combined_20202024.isnull().sum())"
      ]
    },
    {
      "cell_type": "code",
      "execution_count": 13,
      "metadata": {},
      "outputs": [
        {
          "name": "stdout",
          "output_type": "stream",
          "text": [
            "Country name                    0\n",
            "Happiness Rank                  0\n",
            "Happiness score                 0\n",
            "Upperwhisker                    0\n",
            "Lowerwhisker                    0\n",
            "Economy (GDP per Capita)\\t      0\n",
            "Social support                  0\n",
            "Healthy life expectancy         0\n",
            "Freedom to make life choices    0\n",
            "Generosity                      0\n",
            "Perceptions of corruption       0\n",
            "Year                            0\n",
            "dtype: int64\n"
          ]
        }
      ],
      "source": [
        "import pandas as pd\n",
        "data = pd.read_csv(r\"C:\\Users\\balla\\OneDrive\\Documents\\CapStoneProject_2025\\combined_20202024.csv\")\n",
        "numeric_columns = data.select_dtypes(include=['float64', 'int64']).columns\n",
        "data[numeric_columns] = data[numeric_columns].fillna(data[numeric_columns].mean())\n",
        "print(data.isnull().sum())"
      ]
    },
    {
      "cell_type": "code",
      "execution_count": 14,
      "metadata": {},
      "outputs": [
        {
          "name": "stdout",
          "output_type": "stream",
          "text": [
            "  Country name  Happiness Rank  Happiness score  Upperwhisker  Lowerwhisker  \\\n",
            "0      Finland               1             7.81          7.87          7.75   \n",
            "1      Denmark               2             7.65          7.71          7.58   \n",
            "2  Switzerland               3             7.56          7.63          7.49   \n",
            "3      Iceland               4             7.50          7.62          7.39   \n",
            "4       Norway               5             7.49          7.56          7.42   \n",
            "\n",
            "   Economy (GDP per Capita)\\t  Social support  Healthy life expectancy  \\\n",
            "0                        1.29            1.50                     0.96   \n",
            "1                        1.33            1.50                     0.98   \n",
            "2                        1.39            1.47                     1.04   \n",
            "3                        1.33            1.55                     1.00   \n",
            "4                        1.42            1.50                     1.01   \n",
            "\n",
            "   Freedom to make life choices  Generosity  Perceptions of corruption  Year  \n",
            "0                          0.66        0.16                       0.48  2020  \n",
            "1                          0.67        0.24                       0.50  2020  \n",
            "2                          0.63        0.27                       0.41  2020  \n",
            "3                          0.66        0.36                       0.14  2020  \n",
            "4                          0.67        0.29                       0.43  2020  \n"
          ]
        }
      ],
      "source": [
        "print(df_combined_20202024.head())"
      ]
    },
    {
      "cell_type": "code",
      "execution_count": 15,
      "metadata": {},
      "outputs": [
        {
          "name": "stdout",
          "output_type": "stream",
          "text": [
            "✅ Veri başarıyla kaydedildi!\n"
          ]
        }
      ],
      "source": [
        "# Veriyi yeni bir CSV dosyası olarak kaydet\n",
        "data.to_csv(r\"C:\\Users\\balla\\OneDrive\\Documents\\CapStoneProject_2025\\combined_20202024_cleaned.csv\", index=False)\n",
        "\n",
        "print(\"✅ Veri başarıyla kaydedildi!\")\n"
      ]
    },
    {
      "cell_type": "code",
      "execution_count": null,
      "metadata": {},
      "outputs": [],
      "source": []
    },
    {
      "cell_type": "markdown",
      "metadata": {
        "id": "1eLEkw5O0ECa"
      },
      "source": [
        "## Objectives\n",
        "\n",
        "* Write your notebook objective here, for example, \"Fetch data from Kaggle and save as raw data\", or \"engineer features for modelling\"\n",
        "\n",
        "## Inputs\n",
        "\n",
        "* Write down which data or information you need to run the notebook \n",
        "\n",
        "## Outputs\n",
        "\n",
        "* Write here which files, code or artefacts you generate by the end of the notebook \n",
        "\n",
        "## Additional Comments\n",
        "\n",
        "* If you have any additional comments that don't fit in the previous bullets, please state them here. \n",
        "\n"
      ]
    },
    {
      "cell_type": "markdown",
      "metadata": {
        "id": "9uWZXH9LwoQg"
      },
      "source": [
        "---"
      ]
    },
    {
      "cell_type": "markdown",
      "metadata": {
        "id": "cqP-UeN-z3i2"
      },
      "source": [
        "# Change working directory"
      ]
    },
    {
      "cell_type": "markdown",
      "metadata": {},
      "source": [
        "* We are assuming you will store the notebooks in a subfolder, therefore when running the notebook in the editor, you will need to change the working directory"
      ]
    },
    {
      "cell_type": "markdown",
      "metadata": {
        "id": "aOGIGS-uz3i2"
      },
      "source": [
        "We need to change the working directory from its current folder to its parent folder\n",
        "* We access the current directory with os.getcwd()"
      ]
    },
    {
      "cell_type": "code",
      "execution_count": null,
      "metadata": {
        "id": "wZfF_j-Bz3i4",
        "outputId": "66943449-1436-4c3d-85c7-b85f9f78349b"
      },
      "outputs": [],
      "source": [
        "import os\n",
        "current_dir = os.getcwd()\n",
        "current_dir"
      ]
    },
    {
      "cell_type": "markdown",
      "metadata": {
        "id": "9MWW8E7lz3i7"
      },
      "source": [
        "We want to make the parent of the current directory the new current directory\n",
        "* os.path.dirname() gets the parent directory\n",
        "* os.chir() defines the new current directory"
      ]
    },
    {
      "cell_type": "code",
      "execution_count": null,
      "metadata": {
        "id": "TwHsQRWjz3i9",
        "outputId": "86849db3-cd2f-4cc5-ebb8-2d0caafa1a2c"
      },
      "outputs": [],
      "source": [
        "os.chdir(os.path.dirname(current_dir))\n",
        "print(\"You set a new current directory\")"
      ]
    },
    {
      "cell_type": "markdown",
      "metadata": {
        "id": "M_xPk_Ijz3i-"
      },
      "source": [
        "Confirm the new current directory"
      ]
    },
    {
      "cell_type": "code",
      "execution_count": null,
      "metadata": {
        "id": "vz3S-_kjz3jA",
        "outputId": "00b79ae4-75d0-4a96-d193-ac9ef9847ea2"
      },
      "outputs": [],
      "source": [
        "current_dir = os.getcwd()\n",
        "current_dir"
      ]
    },
    {
      "cell_type": "markdown",
      "metadata": {
        "id": "-mavJ8DibrcQ"
      },
      "source": [
        "# Section 1"
      ]
    },
    {
      "cell_type": "markdown",
      "metadata": {},
      "source": [
        "Section 1 content"
      ]
    },
    {
      "cell_type": "code",
      "execution_count": null,
      "metadata": {},
      "outputs": [],
      "source": []
    },
    {
      "cell_type": "markdown",
      "metadata": {
        "id": "ZY3l0-AxO93d"
      },
      "source": [
        "---"
      ]
    },
    {
      "cell_type": "markdown",
      "metadata": {
        "id": "uFQo3ycuO-v6"
      },
      "source": [
        "# Section 2"
      ]
    },
    {
      "cell_type": "markdown",
      "metadata": {},
      "source": [
        "Section 2 content"
      ]
    },
    {
      "cell_type": "code",
      "execution_count": null,
      "metadata": {},
      "outputs": [],
      "source": []
    },
    {
      "cell_type": "markdown",
      "metadata": {},
      "source": [
        "---"
      ]
    },
    {
      "cell_type": "markdown",
      "metadata": {},
      "source": [
        "NOTE"
      ]
    },
    {
      "cell_type": "markdown",
      "metadata": {},
      "source": [
        "* You may add as many sections as you want, as long as it supports your project workflow.\n",
        "* All notebook's cells should be run top-down (you can't create a dynamic wherein a given point you need to go back to a previous cell to execute some task, like go back to a previous cell and refresh a variable content)"
      ]
    },
    {
      "cell_type": "markdown",
      "metadata": {},
      "source": [
        "---"
      ]
    },
    {
      "cell_type": "markdown",
      "metadata": {
        "id": "ltNetd085qHf"
      },
      "source": [
        "# Push files to Repo"
      ]
    },
    {
      "cell_type": "markdown",
      "metadata": {},
      "source": [
        "* In cases where you don't need to push files to Repo, you may replace this section with \"Conclusions and Next Steps\" and state your conclusions and next steps."
      ]
    },
    {
      "cell_type": "code",
      "execution_count": null,
      "metadata": {
        "id": "aKlnIozA4eQO",
        "outputId": "fd09bc1f-adb1-4511-f6ce-492a6af570c0"
      },
      "outputs": [],
      "source": [
        "import os\n",
        "try:\n",
        "  # create your folder here\n",
        "  # os.makedirs(name='')\n",
        "except Exception as e:\n",
        "  print(e)\n"
      ]
    }
  ],
  "metadata": {
    "accelerator": "GPU",
    "colab": {
      "name": "Data Practitioner Jupyter Notebook.ipynb",
      "provenance": [],
      "toc_visible": true
    },
    "kernelspec": {
      "display_name": ".venv",
      "language": "python",
      "name": "python3"
    },
    "language_info": {
      "codemirror_mode": {
        "name": "ipython",
        "version": 3
      },
      "file_extension": ".py",
      "mimetype": "text/x-python",
      "name": "python",
      "nbconvert_exporter": "python",
      "pygments_lexer": "ipython3",
      "version": "3.11.9"
    },
    "orig_nbformat": 2
  },
  "nbformat": 4,
  "nbformat_minor": 2
}
