{
  "cells": [
    {
      "cell_type": "markdown",
      "metadata": {
        "id": "0aStgWSO0E0E"
      },
      "source": [
        "# **WORLD HAPPINESS REPORT**\n"
      ]
    },
    {
      "cell_type": "code",
      "execution_count": 65,
      "metadata": {},
      "outputs": [
        {
          "name": "stdout",
          "output_type": "stream",
          "text": [
            "  Country name  Happiness Rank  Happiness score  Upperwhisker  Lowerwhisker  \\\n",
            "0      Finland               1             7.81          7.87          7.75   \n",
            "1      Denmark               2             7.65          7.71          7.58   \n",
            "2  Switzerland               3             7.56          7.63          7.49   \n",
            "3      Iceland               4             7.50          7.62          7.39   \n",
            "4       Norway               5             7.49          7.56          7.42   \n",
            "\n",
            "   Economy (GDP per Capita)\\t  Social support  Healthy life expectancy  \\\n",
            "0                        1.29            1.50                     0.96   \n",
            "1                        1.33            1.50                     0.98   \n",
            "2                        1.39            1.47                     1.04   \n",
            "3                        1.33            1.55                     1.00   \n",
            "4                        1.42            1.50                     1.01   \n",
            "\n",
            "   Freedom to make life choices  Generosity  Perceptions of corruption  Year  \n",
            "0                          0.66        0.16                       0.48  2020  \n",
            "1                          0.67        0.24                       0.50  2020  \n",
            "2                          0.63        0.27                       0.41  2020  \n",
            "3                          0.66        0.36                       0.14  2020  \n",
            "4                          0.67        0.29                       0.43  2020  \n"
          ]
        }
      ],
      "source": [
        "import pandas as pd\n",
        "data = pd.read_csv(r\"C:\\Users\\balla\\OneDrive\\Documents\\CapStoneProject_2025\\combined_20202024_cleaned.csv\")\n",
        "df_combined_20202024_cleaned = data  # Değişkene atama yapılıyor\n",
        "print(df_combined_20202024_cleaned.head())\n"
      ]
    },
    {
      "cell_type": "code",
      "execution_count": 66,
      "metadata": {},
      "outputs": [
        {
          "name": "stdout",
          "output_type": "stream",
          "text": [
            "Ortalama Değerler:\n",
            " Happiness Rank                    73.401099\n",
            "Happiness score                    5.524740\n",
            "Upperwhisker                       5.640658\n",
            "Lowerwhisker                       5.408864\n",
            "Economy (GDP per Capita)\\t         1.200348\n",
            "Social support                     1.026796\n",
            "Healthy life expectancy            0.541228\n",
            "Freedom to make life choices       0.526359\n",
            "Generosity                         0.162572\n",
            "Perceptions of corruption          0.143833\n",
            "Year                            2021.956044\n",
            "dtype: float64\n",
            "\n",
            "Varyans Değerleri:\n",
            " Happiness Rank                  1783.594057\n",
            "Happiness score                    1.240543\n",
            "Upperwhisker                       1.199548\n",
            "Lowerwhisker                       1.284997\n",
            "Economy (GDP per Capita)\\t         0.223824\n",
            "Social support                     0.110645\n",
            "Healthy life expectancy            0.049869\n",
            "Freedom to make life choices       0.024249\n",
            "Generosity                         0.007878\n",
            "Perceptions of corruption          0.014728\n",
            "Year                               2.020073\n",
            "dtype: float64\n",
            "\n",
            "T-Test Sonuçları (2020 vs 2024 - Happiness Score):\n",
            "T-istatistiği: -0.40981039323714014, p-değeri: 0.6822434811499347\n",
            "Sonuç: İstatistiksel olarak anlamlı bir fark yok.\n",
            "\n",
            "Analiz edilmiş veri başarıyla kaydedildi!\n"
          ]
        }
      ],
      "source": [
        "import pandas as pd\n",
        "import numpy as np\n",
        "from scipy import stats  # Hipotez testleri için\n",
        "\n",
        "# Birleştirilmiş veri kümesini yükleyelim\n",
        "file_path = r\"C:\\Users\\balla\\OneDrive\\Documents\\CapStoneProject_2025\\combined_20202024_cleaned.csv\"\n",
        "data = pd.read_csv(file_path)\n",
        "\n",
        "# Sayısal sütunları seçelim\n",
        "numeric_columns = data.select_dtypes(include=['float64', 'int64']).columns\n",
        "\n",
        "# Temel istatistiksel ölçümleri hesaplayalım\n",
        "summary_stats = data[numeric_columns].describe()\n",
        "\n",
        "# Ortalamayı ve varyansı hesaplayalım\n",
        "mean_values = data[numeric_columns].mean()\n",
        "variance_values = data[numeric_columns].var()\n",
        "\n",
        "print(\"Ortalama Değerler:\\n\", mean_values)\n",
        "print(\"\\nVaryans Değerleri:\\n\", variance_values)\n",
        "\n",
        "# Hipotez testi: Örneğin, \"Happiness Score\" yıllara göre anlamlı değişiyor mu?\n",
        "# 2020 ve 2024 yıllarını karşılaştırıyoruz\n",
        "data_2020 = data[data[\"Year\"] == 2020][\"Happiness score\"]\n",
        "data_2024 = data[data[\"Year\"] == 2024][\"Happiness score\"]\n",
        "\n",
        "t_stat, p_value = stats.ttest_ind(data_2020, data_2024, nan_policy='omit')\n",
        "\n",
        "print(\"\\nT-Test Sonuçları (2020 vs 2024 - Happiness Score):\")\n",
        "print(f\"T-istatistiği: {t_stat}, p-değeri: {p_value}\")\n",
        "\n",
        "if p_value < 0.05:\n",
        "    print(\"Sonuç: İstatistiksel olarak anlamlı bir fark var.\")\n",
        "else:\n",
        "    print(\"Sonuç: İstatistiksel olarak anlamlı bir fark yok.\")\n",
        "\n",
        "# Yeni veriyi kaydedelim\n",
        "output_path = r\"C:\\Users\\balla\\OneDrive\\Documents\\CapStoneProject_2025\\combined_20202024_analyzed.csv\"\n",
        "data.to_csv(output_path, index=False)\n",
        "print(\"\\nAnaliz edilmiş veri başarıyla kaydedildi!\")\n"
      ]
    },
    {
      "cell_type": "markdown",
      "metadata": {},
      "source": [
        "Temel İstatistiksel Kavramlar ve Veri Analizi\n",
        "\n",
        "1.1 İstatistik, Olasılık ve Veri Analizi Prensipleri\n",
        "\n",
        "İstatistik, verileri toplamak, düzenlemek, analiz etmek ve yorumlamak için kullanılan bilim dalıdır. Veri analizi sürecinde temel istatistiksel kavramlar şunlardır:\n",
        "\n",
        "1.1.1 Ortalama (Mean)\n",
        "\n",
        "Ortalama, bir veri kümesindeki tüm değerlerin toplamının, eleman sayısına bölünmesiyle elde edilen değerdir.\n",
        "\n",
        "\n",
        "\n",
        "Burada  her bir veri noktası,  ise veri kümesindeki toplam eleman sayısıdır.\n",
        "\n",
        "1.1.2 Medyan (Median)\n",
        "\n",
        "Medyan, sıralanmış bir veri kümesindeki ortanca değerdir. Eğer eleman sayısı tekse tam ortadaki değer, çiftse ortadaki iki değerin ortalamasıdır.\n",
        "\n",
        "1.1.3 Mod (Mode)\n",
        "\n",
        "Mod, bir veri kümesinde en sık tekrar eden değerdir. Birden fazla mod olabilir veya hiç mod bulunmayabilir.\n",
        "\n",
        "1.1.4 Standart Sapma (Standard Deviation)\n",
        "\n",
        "Standart sapma, verilerin ortalamadan ne kadar saptığını gösterir. Küçük bir standart sapma, verilerin ortalamaya yakın olduğunu gösterirken, büyük bir standart sapma, verilerin geniş bir dağılım gösterdiğini ifade eder.\n",
        "\n",
        "\n",
        "\n",
        "Burada  veri kümesinin ortalamasıdır.\n",
        "\n",
        "1.1.5 Varyans (Variance)\n",
        "\n",
        "Varyans, standart sapmanın karesidir ve verilerin dağılım genişliğini gösterir.\n",
        "\n",
        "\n",
        "\n",
        "1.1.6 Olasılık Dağılımları (Probability Distributions)\n",
        "\n",
        "Olasılık dağılımları, bir olayın gerçekleşme ihtimalini gösterir. En yaygın dağılımlardan biri normal dağılımdır. Normal dağılım, çan eğrisi şeklinde olup, birçok doğal olayın dağılımını temsil eder.\n",
        "\n",
        "\n",
        "\n",
        "Burada  ortalama,  standart sapmadır.\n",
        "\n",
        "1.1.7 Hipotez Testi (Hypothesis Testing)\n",
        "\n",
        "Hipotez testi, istatistiksel olarak anlamlı fark olup olmadığını belirlemek için kullanılır. En yaygın kullanılan testlerden biri t-testidir. T-testi, iki grup arasındaki ortalama farkın anlamlı olup olmadığını ölçer.\n",
        "\n",
        "Hipotez testi şu adımlarla gerçekleştirilir:\n",
        "\n",
        "H0 (Null Hipotezi): Gruplar arasında fark yoktur.\n",
        "\n",
        "H1 (Alternatif Hipotez): Gruplar arasında anlamlı fark vardır.\n",
        "\n",
        "p-değeri hesaplanır:\n",
        "\n",
        "p < 0.05 ise, H0 reddedilir ve gruplar arasında anlamlı fark olduğu kabul edilir.\n",
        "\n",
        "p > 0.05 ise, anlamlı fark yoktur.\n",
        "\n",
        "Bu temel istatistiksel kavramlar veri analizi sürecinde kritik bir rol oynar ve veriyi anlamlandırmak için kullanılır.\n",
        "\n"
      ]
    },
    {
      "cell_type": "markdown",
      "metadata": {},
      "source": [
        "1. İstatistik, Olasılık ve Veri Analizi Temelleri\n",
        "Bu bölümde, istatistik, olasılık ve veri analizi kavramlarını açıklayacağız.\n",
        "\n",
        "1.1 İstatistik Nedir?\n",
        "İstatistik, verileri toplama, analiz etme, yorumlama ve sunma bilimidir. İki temel türü vardır:\n",
        "\n",
        "Tanımlayıcı İstatistikler: Ortalama, medyan, mod, standart sapma gibi verileri özetleyen istatistiklerdir.\n",
        "Çıkarımsal İstatistikler: Bir örneklemden yola çıkarak genel popülasyon hakkında tahminde bulunmayı içerir (örneğin, hipotez testleri).\n",
        "1.2 Olasılık Nedir?\n",
        "Olasılık, bir olayın gerçekleşme ihtimalini ölçen bir matematiksel kavramdır. Örneğin, bir madeni paranın yazı gelme ihtimali 0.5’tir (50%).\n",
        "\n",
        "Olasılık dağılımları:\n",
        "\n",
        "Normal Dağılım (Gaussian Distribution): Veri noktalarının çoğu ortalamaya yakın olup, uç değerlere doğru azalan bir dağılımdır.\n",
        "Binom Dağılımı: Belirli sayıda bağımsız denemede belirli bir olayın kaç kez meydana geleceğini hesaplar.\n",
        "1.3 Temel Veri Analizi Teknikleri\n",
        "Ortalama (Mean): Verilerin toplamının, veri sayısına bölünmesiyle elde edilir.\n",
        "Medyan (Median): Verileri sıraladığımızda ortada kalan değerdir.\n",
        "Standart Sapma (Standard Deviation): Verilerin ortalama etrafındaki dağılımını gösterir.\n",
        "Varyans (Variance): Standart sapmanın karesidir, veri noktalarının dağılımını ölçer.\n",
        "Hipotez Testleri: Bir önermenin doğruluğunu istatistiksel olarak test etmeye yarar. Örneğin, t-test iki grubun ortalamalarının farklı olup olmadığını analiz eder."
      ]
    },
    {
      "cell_type": "markdown",
      "metadata": {},
      "source": [
        "2. Python ile İstatistiksel Analiz\n",
        "Şimdi yukarıdaki kavramları Jupyter Notebook'ta kod yazarak uygulayacağız.\n",
        "\n",
        "📊 2.1 Ortalama, Medyan, Standart Sapma ve Varyans Hesaplama"
      ]
    },
    {
      "cell_type": "code",
      "execution_count": 67,
      "metadata": {},
      "outputs": [
        {
          "name": "stdout",
          "output_type": "stream",
          "text": [
            "📌 Ortalama Değerler:\n",
            " Happiness Rank                    73.401099\n",
            "Happiness score                    5.524740\n",
            "Upperwhisker                       5.640658\n",
            "Lowerwhisker                       5.408864\n",
            "Economy (GDP per Capita)\\t         1.200348\n",
            "Social support                     1.026796\n",
            "Healthy life expectancy            0.541228\n",
            "Freedom to make life choices       0.526359\n",
            "Generosity                         0.162572\n",
            "Perceptions of corruption          0.143833\n",
            "Year                            2021.956044\n",
            "dtype: float64\n",
            "\n",
            "📌 Medyan Değerler:\n",
            " Happiness Rank                    73.0000\n",
            "Happiness score                    5.5830\n",
            "Upperwhisker                       5.6895\n",
            "Lowerwhisker                       5.4820\n",
            "Economy (GDP per Capita)\\t         1.2395\n",
            "Social support                     1.0670\n",
            "Healthy life expectancy            0.5550\n",
            "Freedom to make life choices       0.5465\n",
            "Generosity                         0.1490\n",
            "Perceptions of corruption          0.1105\n",
            "Year                            2022.0000\n",
            "dtype: float64\n",
            "\n",
            "📌 Standart Sapma Değerleri:\n",
            " Happiness Rank                  42.232618\n",
            "Happiness score                  1.113797\n",
            "Upperwhisker                     1.095239\n",
            "Lowerwhisker                     1.133577\n",
            "Economy (GDP per Capita)\\t       0.473101\n",
            "Social support                   0.332633\n",
            "Healthy life expectancy          0.223314\n",
            "Freedom to make life choices     0.155722\n",
            "Generosity                       0.088761\n",
            "Perceptions of corruption        0.121360\n",
            "Year                             1.421293\n",
            "dtype: float64\n",
            "\n",
            "📌 Varyans Değerleri:\n",
            " Happiness Rank                  1783.594057\n",
            "Happiness score                    1.240543\n",
            "Upperwhisker                       1.199548\n",
            "Lowerwhisker                       1.284997\n",
            "Economy (GDP per Capita)\\t         0.223824\n",
            "Social support                     0.110645\n",
            "Healthy life expectancy            0.049869\n",
            "Freedom to make life choices       0.024249\n",
            "Generosity                         0.007878\n",
            "Perceptions of corruption          0.014728\n",
            "Year                               2.020073\n",
            "dtype: float64\n"
          ]
        }
      ],
      "source": [
        "import pandas as pd\n",
        "import numpy as np\n",
        "\n",
        "# Veriyi yükleme\n",
        "data = pd.read_csv(r\"C:\\Users\\balla\\OneDrive\\Documents\\CapStoneProject_2025\\combined_20202024_cleaned.csv\")\n",
        "\n",
        "# Sayısal sütunları seçme\n",
        "numeric_columns = data.select_dtypes(include=['float64', 'int64']).columns\n",
        "\n",
        "# Temel istatistikleri hesaplama\n",
        "mean_values = data[numeric_columns].mean()\n",
        "median_values = data[numeric_columns].median()\n",
        "std_values = data[numeric_columns].std()\n",
        "var_values = data[numeric_columns].var()\n",
        "\n",
        "print(\"📌 Ortalama Değerler:\\n\", mean_values)\n",
        "print(\"\\n📌 Medyan Değerler:\\n\", median_values)\n",
        "print(\"\\n📌 Standart Sapma Değerleri:\\n\", std_values)\n",
        "print(\"\\n📌 Varyans Değerleri:\\n\", var_values)\n"
      ]
    },
    {
      "cell_type": "markdown",
      "metadata": {},
      "source": [
        "2.2 Hipotez Testi (T-Test)\n",
        "Şimdi t-test yaparak, iki veri grubunun ortalamaları arasında istatistiksel olarak anlamlı bir fark olup olmadığını test edelim."
      ]
    },
    {
      "cell_type": "code",
      "execution_count": 68,
      "metadata": {},
      "outputs": [
        {
          "data": {
            "image/png": "[encoded data removed]",
            "text/plain": [
              "<Figure size 1000x500 with 1 Axes>"
            ]
          },
          "metadata": {},
          "output_type": "display_data"
        }
      ],
      "source": [
        "import matplotlib.pyplot as plt\n",
        "import seaborn as sns\n",
        "\n",
        "plt.figure(figsize=(10,5))\n",
        "sns.histplot(data[\"Happiness score\"], kde=True, bins=30)\n",
        "plt.xlabel(\"Mutluluk Skoru\")\n",
        "plt.ylabel(\"Frekans\")\n",
        "plt.title(\"Mutluluk Puanlarının Dağılımı\")\n",
        "plt.show()\n"
      ]
    },
    {
      "cell_type": "markdown",
      "metadata": {},
      "source": [
        "Normal Dağılım Grafiği\n",
        "Mutluluk puanlarının normal dağılımını görmek için histogram çizelim."
      ]
    },
    {
      "cell_type": "code",
      "execution_count": 69,
      "metadata": {},
      "outputs": [
        {
          "data": {
            "image/png": "[encoded data removed]",
            "text/plain": [
              "<Figure size 1000x500 with 1 Axes>"
            ]
          },
          "metadata": {},
          "output_type": "display_data"
        }
      ],
      "source": [
        "import matplotlib.pyplot as plt\n",
        "import seaborn as sns\n",
        "\n",
        "plt.figure(figsize=(10,5))\n",
        "sns.histplot(data[\"Happiness score\"], kde=True, bins=30)\n",
        "plt.xlabel(\"Mutluluk Skoru\")\n",
        "plt.ylabel(\"Frekans\")\n",
        "plt.title(\"Mutluluk Puanlarının Dağılımı\")\n",
        "plt.show()\n"
      ]
    },
    {
      "cell_type": "markdown",
      "metadata": {},
      "source": [
        "🎛 3. Dashboard Entegrasyonu\n",
        "Şimdi, bu istatistikleri bir dashboard’a nasıl ekleyebileceğimizi düşünelim.\n",
        "\n",
        "Ortalama ve varyans gibi değerleri gösteren bir tablo ekleyebiliriz.\n",
        "Normal dağılım histogramını bir görselleştirme olarak ekleyebiliriz.\n",
        "Hipotez testi sonuçlarını bir metin kutusunda gösterebiliriz."
      ]
    },
    {
      "cell_type": "markdown",
      "metadata": {},
      "source": []
    },
    {
      "cell_type": "code",
      "execution_count": null,
      "metadata": {},
      "outputs": [],
      "source": []
    },
    {
      "cell_type": "markdown",
      "metadata": {
        "id": "1eLEkw5O0ECa"
      },
      "source": [
        "## Objectives\n",
        "\n",
        "* Write your notebook objective here, for example, \"Fetch data from Kaggle and save as raw data\", or \"engineer features for modelling\"\n",
        "\n",
        "## Inputs\n",
        "\n",
        "* Write down which data or information you need to run the notebook \n",
        "\n",
        "## Outputs\n",
        "\n",
        "* Write here which files, code or artefacts you generate by the end of the notebook \n",
        "\n",
        "## Additional Comments\n",
        "\n",
        "* If you have any additional comments that don't fit in the previous bullets, please state them here. \n",
        "\n"
      ]
    },
    {
      "cell_type": "markdown",
      "metadata": {
        "id": "9uWZXH9LwoQg"
      },
      "source": [
        "---"
      ]
    },
    {
      "cell_type": "markdown",
      "metadata": {
        "id": "cqP-UeN-z3i2"
      },
      "source": [
        "# Change working directory"
      ]
    },
    {
      "cell_type": "markdown",
      "metadata": {},
      "source": [
        "* We are assuming you will store the notebooks in a subfolder, therefore when running the notebook in the editor, you will need to change the working directory"
      ]
    },
    {
      "cell_type": "markdown",
      "metadata": {
        "id": "aOGIGS-uz3i2"
      },
      "source": [
        "We need to change the working directory from its current folder to its parent folder\n",
        "* We access the current directory with os.getcwd()"
      ]
    },
    {
      "cell_type": "code",
      "execution_count": null,
      "metadata": {
        "id": "wZfF_j-Bz3i4",
        "outputId": "66943449-1436-4c3d-85c7-b85f9f78349b"
      },
      "outputs": [],
      "source": [
        "import os\n",
        "current_dir = os.getcwd()\n",
        "current_dir"
      ]
    },
    {
      "cell_type": "markdown",
      "metadata": {
        "id": "9MWW8E7lz3i7"
      },
      "source": [
        "We want to make the parent of the current directory the new current directory\n",
        "* os.path.dirname() gets the parent directory\n",
        "* os.chir() defines the new current directory"
      ]
    },
    {
      "cell_type": "code",
      "execution_count": null,
      "metadata": {
        "id": "TwHsQRWjz3i9",
        "outputId": "86849db3-cd2f-4cc5-ebb8-2d0caafa1a2c"
      },
      "outputs": [],
      "source": [
        "os.chdir(os.path.dirname(current_dir))\n",
        "print(\"You set a new current directory\")"
      ]
    },
    {
      "cell_type": "markdown",
      "metadata": {
        "id": "M_xPk_Ijz3i-"
      },
      "source": [
        "Confirm the new current directory"
      ]
    },
    {
      "cell_type": "code",
      "execution_count": null,
      "metadata": {
        "id": "vz3S-_kjz3jA",
        "outputId": "00b79ae4-75d0-4a96-d193-ac9ef9847ea2"
      },
      "outputs": [],
      "source": [
        "current_dir = os.getcwd()\n",
        "current_dir"
      ]
    },
    {
      "cell_type": "markdown",
      "metadata": {
        "id": "-mavJ8DibrcQ"
      },
      "source": [
        "# Section 1"
      ]
    },
    {
      "cell_type": "markdown",
      "metadata": {},
      "source": [
        "Section 1 content"
      ]
    },
    {
      "cell_type": "code",
      "execution_count": null,
      "metadata": {},
      "outputs": [],
      "source": []
    },
    {
      "cell_type": "markdown",
      "metadata": {
        "id": "ZY3l0-AxO93d"
      },
      "source": [
        "---"
      ]
    },
    {
      "cell_type": "markdown",
      "metadata": {
        "id": "uFQo3ycuO-v6"
      },
      "source": [
        "# Section 2"
      ]
    },
    {
      "cell_type": "markdown",
      "metadata": {},
      "source": [
        "Section 2 content"
      ]
    },
    {
      "cell_type": "code",
      "execution_count": null,
      "metadata": {},
      "outputs": [],
      "source": []
    },
    {
      "cell_type": "markdown",
      "metadata": {},
      "source": [
        "---"
      ]
    },
    {
      "cell_type": "markdown",
      "metadata": {},
      "source": [
        "NOTE"
      ]
    },
    {
      "cell_type": "markdown",
      "metadata": {},
      "source": [
        "* You may add as many sections as you want, as long as it supports your project workflow.\n",
        "* All notebook's cells should be run top-down (you can't create a dynamic wherein a given point you need to go back to a previous cell to execute some task, like go back to a previous cell and refresh a variable content)"
      ]
    },
    {
      "cell_type": "markdown",
      "metadata": {},
      "source": [
        "---"
      ]
    },
    {
      "cell_type": "markdown",
      "metadata": {
        "id": "ltNetd085qHf"
      },
      "source": [
        "# Push files to Repo"
      ]
    },
    {
      "cell_type": "markdown",
      "metadata": {},
      "source": [
        "* In cases where you don't need to push files to Repo, you may replace this section with \"Conclusions and Next Steps\" and state your conclusions and next steps."
      ]
    },
    {
      "cell_type": "code",
      "execution_count": null,
      "metadata": {
        "id": "aKlnIozA4eQO",
        "outputId": "fd09bc1f-adb1-4511-f6ce-492a6af570c0"
      },
      "outputs": [],
      "source": [
        "import os\n",
        "try:\n",
        "  # create your folder here\n",
        "  # os.makedirs(name='')\n",
        "except Exception as e:\n",
        "  print(e)\n"
      ]
    }
  ],
  "metadata": {
    "accelerator": "GPU",
    "colab": {
      "name": "Data Practitioner Jupyter Notebook.ipynb",
      "provenance": [],
      "toc_visible": true
    },
    "kernelspec": {
      "display_name": ".venv",
      "language": "python",
      "name": "python3"
    },
    "language_info": {
      "codemirror_mode": {
        "name": "ipython",
        "version": 3
      },
      "file_extension": ".py",
      "mimetype": "text/x-python",
      "name": "python",
      "nbconvert_exporter": "python",
      "pygments_lexer": "ipython3",
      "version": "3.11.9"
    },
    "orig_nbformat": 2
  },
  "nbformat": 4,
  "nbformat_minor": 2
}
